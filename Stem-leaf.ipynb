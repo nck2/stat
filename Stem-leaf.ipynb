{
 "cells": [
  {
   "cell_type": "code",
   "execution_count": 1,
   "metadata": {},
   "outputs": [],
   "source": [
    "from collections import namedtuple\n",
    "from pprint import pprint as pp\n",
    "from math import floor\n",
    "import seaborn as sns\n",
    "import numpy as np"
   ]
  },
  {
   "cell_type": "code",
   "execution_count": 2,
   "metadata": {},
   "outputs": [],
   "source": [
    "MYDATA=(\n",
    "    183,180,160,170,170,173,178,165,168,\n",
    "    168,176,180,185,168,165,142,165,183,\n",
    "    165,168,183,170,152,163,163,178,145,\n",
    "    158,160,170,165,173,160,168,170,163)\n",
    "\n",
    "Stem = namedtuple('Stem', 'data, leafdigits')\n",
    " \n",
    "data0 = Stem(MYDATA,\n",
    "             1)\n",
    " "
   ]
  },
  {
   "cell_type": "code",
   "execution_count": 3,
   "metadata": {},
   "outputs": [
    {
     "name": "stdout",
     "output_type": "stream",
     "text": [
      "\n",
      "14 | 2 5\n",
      "15 | 2 8\n",
      "16 | 0 0 0 3 3 3 5 5 5 5 5 8 8 8 8 8\n",
      "17 | 0 0 0 0 0 3 3 6 8 8\n",
      "18 | 0 0 3 3 3 5\n",
      "\n",
      "Key:\n",
      " Stem multiplier: 10\n",
      " X | Y  =>  10*X+Y\n",
      "\n"
     ]
    }
   ],
   "source": [
    "def stemplot(stem):\n",
    "    d = []\n",
    "    interval = int(10**int(stem.leafdigits))\n",
    "    for data in sorted(stem.data):\n",
    "        data = int(floor(data))\n",
    "        stm, lf = divmod(data,interval)\n",
    "        d.append( (int(stm), int(lf)) )\n",
    "    stems, leafs = list(zip(*d))\n",
    "    stemwidth = max(len(str(x)) for x in stems)\n",
    "    leafwidth = max(len(str(x)) for x in leafs)\n",
    "    laststem, out = min(stems) - 1, []\n",
    "    for s,l in d:\n",
    "        while laststem < s:\n",
    "            laststem += 1\n",
    "            out.append('\\n%*i |' % ( stemwidth, laststem))\n",
    "        out.append(' %0*i' % (leafwidth, l))\n",
    "    out.append('\\n\\nKey:\\n Stem multiplier: %i\\n X | Y  =>  %i*X+Y\\n'\n",
    "               % (interval, interval))\n",
    "    return ''.join(out)\n",
    " \n",
    "if __name__ == '__main__':\n",
    "    print( stemplot(data0) )"
   ]
  },
  {
   "cell_type": "code",
   "execution_count": 4,
   "metadata": {},
   "outputs": [
    {
     "data": {
      "text/plain": [
       "<matplotlib.axes._subplots.AxesSubplot at 0x11d4b9c90>"
      ]
     },
     "execution_count": 4,
     "metadata": {},
     "output_type": "execute_result"
    },
    {
     "data": {
      "image/png": "[encoded data removed]",
      "text/plain": [
       "<Figure size 432x288 with 1 Axes>"
      ]
     },
     "metadata": {
      "needs_background": "light"
     },
     "output_type": "display_data"
    }
   ],
   "source": [
    "ARRAY = np.array(MYDATA)\n",
    "sns.distplot(ARRAY, bins=5, color='black')"
   ]
  },
  {
   "cell_type": "code",
   "execution_count": null,
   "metadata": {},
   "outputs": [],
   "source": []
  }
 ],
 "metadata": {
  "kernelspec": {
   "display_name": "Python 3.7.4 64-bit ('statvenv': venv)",
   "language": "python",
   "name": "python37464bitstatvenvvenvb31719a09a744357bed765ce36ad66fe"
  },
  "language_info": {
   "codemirror_mode": {
    "name": "ipython",
    "version": 3
   },
   "file_extension": ".py",
   "mimetype": "text/x-python",
   "name": "python",
   "nbconvert_exporter": "python",
   "pygments_lexer": "ipython3",
   "version": "3.7.4"
  }
 },
 "nbformat": 4,
 "nbformat_minor": 2
}
