{
 "cells": [
  {
   "cell_type": "markdown",
   "id": "971753ce",
   "metadata": {},
   "source": [
    "https://jimmy-ai.tistory.com/157"
   ]
  },
  {
   "cell_type": "code",
   "execution_count": 4,
   "id": "32d6e767",
   "metadata": {},
   "outputs": [],
   "source": [
    "import numpy as np\n",
    "import matplotlib.pyplot as plt"
   ]
  },
  {
   "cell_type": "code",
   "execution_count": 2,
   "id": "c24dd9ec",
   "metadata": {},
   "outputs": [
    {
     "data": {
      "text/plain": [
       "array([12,  8, 11,  8,  6, 10,  9, 12,  8,  8])"
      ]
     },
     "execution_count": 2,
     "metadata": {},
     "output_type": "execute_result"
    }
   ],
   "source": [
    "n = 20\n",
    "p = 0.5\n",
    "\n",
    "np.random.binomial(n, p, size = 10)"
   ]
  },
  {
   "cell_type": "code",
   "execution_count": 3,
   "id": "eebee368",
   "metadata": {},
   "outputs": [
    {
     "data": {
      "text/plain": [
       "array([[55, 65, 64],\n",
       "       [61, 61, 56],\n",
       "       [65, 51, 60]])"
      ]
     },
     "execution_count": 3,
     "metadata": {},
     "output_type": "execute_result"
    }
   ],
   "source": [
    "n = 100\n",
    "p = 0.6\n",
    "\n",
    "np.random.binomial(n, p, size = (3, 3))"
   ]
  },
  {
   "cell_type": "code",
   "execution_count": 5,
   "id": "3bacf698",
   "metadata": {},
   "outputs": [],
   "source": [
    "import matplotlib.pyplot as plt\n",
    "\n",
    "n = 200 # 동전 던지기 횟수\n",
    "p = 0.5 # 앞면 확률\n",
    "size = 500 # 세트 반복 횟수\n",
    "\n",
    "binom_sample = np.random.binomial(n, p, size)\n",
    "normal_sample = n * p + np.sqrt(n * p * (1-p)) * np.random.randn(size) # 정규분포 샘플\n"
   ]
  },
  {
   "cell_type": "code",
   "execution_count": 7,
   "id": "6c1ba441",
   "metadata": {},
   "outputs": [
    {
     "data": {
      "text/plain": [
       "array([ 98,  87, 100, 103,  95, 103, 100,  88, 111, 104,  98,  96,  99,\n",
       "       101, 101, 100, 101,  97,  95, 108,  90,  97, 111, 105,  96,  98,\n",
       "       103, 103,  92, 104, 100, 102, 101,  93, 101, 111,  98,  93,  88,\n",
       "       105, 110, 107, 102,  92,  89,  98,  91, 103,  91, 106,  99,  96,\n",
       "        97,  97, 112,  97, 110,  99, 101, 105, 103,  99,  86,  96,  95,\n",
       "       100, 102, 100,  99, 104,  96,  96,  98, 104, 121, 103,  93, 100,\n",
       "       105, 105, 100, 110,  85, 109,  95, 103,  99, 113, 100,  98, 101,\n",
       "        90,  91, 104, 100, 114, 100,  92, 111,  92, 108,  91, 102, 108,\n",
       "       105,  95, 104, 102, 100, 106, 114,  96, 114,  84,  96, 107,  95,\n",
       "        88,  98,  92, 104, 107,  90,  95,  90,  97,  98,  99,  96, 105,\n",
       "       101,  93, 115,  94, 110, 102, 104,  91, 103, 103, 109,  98,  98,\n",
       "       103,  85, 109,  83,  94,  99, 111,  93, 102,  93, 111,  98, 107,\n",
       "       103,  96, 104, 100, 107, 115, 106,  96,  96,  94,  98, 101, 113,\n",
       "        98, 108, 110,  97, 101,  93, 105,  99,  93, 100, 107, 101,  97,\n",
       "       103, 109,  94,  96, 102, 106, 116, 105, 103, 113,  93, 101,  98,\n",
       "       103,  95, 117, 105, 110, 105,  99,  98, 101,  98,  94, 100, 107,\n",
       "        93, 101, 105, 101, 109, 104, 102,  94, 101, 112, 102, 103,  91,\n",
       "        98,  95,  97,  95, 105,  98, 103,  96,  93, 114, 106,  98, 100,\n",
       "       102,  97, 112, 102,  96, 107, 103,  93, 104, 114, 104,  86,  95,\n",
       "       102, 102, 101,  90, 100,  94,  89, 104,  99,  93, 108,  88, 103,\n",
       "        99,  99, 104,  88, 103, 111, 107, 105,  92, 100,  93,  93, 103,\n",
       "        94,  90,  97, 105, 107,  86,  95, 121, 106,  94,  96, 107, 103,\n",
       "       105,  90,  99, 101,  95,  85, 100,  93,  88, 101,  95,  94,  93,\n",
       "        97, 108, 107,  99,  95, 105,  91, 108,  90, 103, 106,  93, 105,\n",
       "        98, 100,  91, 102,  89, 102, 104, 100, 101, 105, 107, 105,  99,\n",
       "       104,  98,  96,  95,  92,  95,  97, 103,  97,  97, 104, 107, 105,\n",
       "        94, 105,  91, 100, 104, 107, 103,  96, 106, 103, 111, 110, 114,\n",
       "       104, 107,  90, 104,  96,  86, 101,  98, 100, 119, 105, 101,  90,\n",
       "       108, 104, 107,  91, 102,  98,  97, 107, 102, 103, 100, 110, 108,\n",
       "        94,  91,  94, 111,  95, 107,  95, 105,  95, 104,  97, 111, 106,\n",
       "       109,  94, 107,  95,  89, 108, 115,  95, 100,  86, 103, 106,  97,\n",
       "       115, 105,  96, 103, 103, 101,  91, 108,  98,  86, 103,  87,  93,\n",
       "        93,  90, 109,  97,  97,  99,  94, 100, 107, 112,  87, 104, 107,\n",
       "       110,  91, 107, 101,  98,  98, 104, 102, 107, 100, 103, 104,  95,\n",
       "       104,  94, 105, 109, 111, 105,  93, 100, 114, 112,  90, 123,  96,\n",
       "        92, 104, 107,  97,  98, 104, 105,  90, 107,  94, 100, 109,  97,\n",
       "       101, 105,  87, 106, 105, 104, 113,  95, 109,  93,  95,  92,  95,\n",
       "        93, 102,  97,  92, 100, 100,  96, 107,  92,  94,  91, 104, 106,\n",
       "        98, 101,  98, 109, 106,  93])"
      ]
     },
     "execution_count": 7,
     "metadata": {},
     "output_type": "execute_result"
    }
   ],
   "source": [
    "binom_sample"
   ]
  },
  {
   "cell_type": "markdown",
   "id": "d352b6da",
   "metadata": {},
   "source": [
    "np.random.randn 은 가우시안분포"
   ]
  },
  {
   "cell_type": "code",
   "execution_count": 8,
   "id": "6f165268",
   "metadata": {},
   "outputs": [
    {
     "data": {
      "image/png": "[encoded data removed]",
      "text/plain": [
       "<Figure size 432x288 with 1 Axes>"
      ]
     },
     "metadata": {
      "needs_background": "light"
     },
     "output_type": "display_data"
    }
   ],
   "source": [
    "# 히스토그램 시각화\n",
    "plt.hist(binom_sample, color = 'blue', alpha = 0.3, bins = 25, label = 'binomial')\n",
    "plt.hist(normal_sample, color = 'orange', alpha = 0.4, bins = 25, label = 'normal')\n",
    "plt.legend()\n",
    "plt.show()"
   ]
  },
  {
   "cell_type": "code",
   "execution_count": 14,
   "id": "eea161a6",
   "metadata": {},
   "outputs": [],
   "source": [
    "def main(n=200,p=0.5,size=500):\n",
    "    # n: 동전 던지기 횟수\n",
    "    # p: 앞면 확률\n",
    "    # size: 세트 반복 횟수\n",
    "\n",
    "    binom_sample = np.random.binomial(n, p, size)\n",
    "    normal_sample = n * p + np.sqrt(n * p * (1-p)) * np.random.randn(size) # 정규분포 샘플\n",
    "    plt.hist(binom_sample, color = 'blue', alpha = 0.3, bins = 25, label = 'binomial')\n",
    "    plt.hist(normal_sample, color = 'orange', alpha = 0.4, bins = 25, label = 'normal')\n",
    "    plt.legend()\n",
    "    plt.show()\n",
    "\n",
    "    "
   ]
  },
  {
   "cell_type": "code",
   "execution_count": 15,
   "id": "4c804425",
   "metadata": {},
   "outputs": [
    {
     "data": {
      "text/plain": [
       "<function __main__.main(n=200, p=0.5, size=500)>"
      ]
     },
     "execution_count": 15,
     "metadata": {},
     "output_type": "execute_result"
    }
   ],
   "source": [
    "main"
   ]
  },
  {
   "cell_type": "code",
   "execution_count": 16,
   "id": "d8010ad6",
   "metadata": {},
   "outputs": [
    {
     "data": {
      "image/png": "[encoded data removed]",
      "text/plain": [
       "<Figure size 432x288 with 1 Axes>"
      ]
     },
     "metadata": {
      "needs_background": "light"
     },
     "output_type": "display_data"
    }
   ],
   "source": [
    "main(size=10000)"
   ]
  },
  {
   "cell_type": "code",
   "execution_count": null,
   "id": "dbcd4a9d",
   "metadata": {},
   "outputs": [],
   "source": []
  }
 ],
 "metadata": {
  "kernelspec": {
   "display_name": "Python 3",
   "language": "python",
   "name": "python3"
  },
  "language_info": {
   "codemirror_mode": {
    "name": "ipython",
    "version": 3
   },
   "file_extension": ".py",
   "mimetype": "text/x-python",
   "name": "python",
   "nbconvert_exporter": "python",
   "pygments_lexer": "ipython3",
   "version": "3.9.2"
  }
 },
 "nbformat": 4,
 "nbformat_minor": 5
}
